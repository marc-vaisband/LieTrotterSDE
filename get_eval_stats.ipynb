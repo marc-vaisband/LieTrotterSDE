{
 "cells": [
  {
   "cell_type": "markdown",
   "metadata": {},
   "source": [
    "### This notebook contains the code used to evaluate the experiments and generate the LaTeX tables"
   ]
  },
  {
   "cell_type": "code",
   "execution_count": 231,
   "metadata": {},
   "outputs": [
    {
     "data": {
      "text/plain": [
       "<module 'ranking_utils' from 'd:\\\\git\\\\deepSDE\\\\ranking_utils.py'>"
      ]
     },
     "execution_count": 231,
     "metadata": {},
     "output_type": "execute_result"
    }
   ],
   "source": [
    "import numpy as np\n",
    "import pandas as pd\n",
    "import eval_utils as eu\n",
    "import matplotlib.pyplot as plt\n",
    "import tensorflow as tf\n",
    "import eval_utils as eu\n",
    "import importlib\n",
    "import pickle\n",
    "import ranking_utils as ru\n",
    "from utils.euler import one_step_euler\n",
    "import signatory\n",
    "import torch\n",
    "import sigmmd"
   ]
  },
  {
   "cell_type": "code",
   "execution_count": 2,
   "metadata": {},
   "outputs": [],
   "source": [
    "synth1d_problems = [\"ou\", \"cir\", \"sin\", \"sit\"]\n",
    "bio_problems = [\"gfp\"]\n",
    "all_problems = synth1d_problems + bio_problems"
   ]
  },
  {
   "cell_type": "markdown",
   "metadata": {},
   "source": [
    "## First - test direct coefficient reconstruction"
   ]
  },
  {
   "cell_type": "code",
   "execution_count": 128,
   "metadata": {},
   "outputs": [],
   "source": [
    "ou_L = 2.0\n",
    "ou_sigma = 2.0\n",
    "\n",
    "cir_alpha = 2.0\n",
    "cir_equilibrium = 4.0\n",
    "cir_sigma = 2.0\n",
    "\n",
    "sin_alpha = 15.0\n",
    "sin_gamma = 2.0\n",
    "sin_sigma = 1.0\n",
    "\n",
    "sit_alpha = 6.0\n",
    "sit_beta = 6.0\n",
    "sit_gamma = 0.05\n",
    "sit_sigma = 2.0\n",
    "\n",
    "true_funcs = {\n",
    "    \"ou\": (lambda x, t: -ou_L*x, lambda x, t: ou_sigma * np.ones_like(x)),\n",
    "    \"cir\": (lambda x, t: -cir_alpha*(x-cir_equilibrium), lambda x, t: cir_sigma * (np.sqrt(x) * (x > 0.0))),\n",
    "    \"sin\": (lambda x, t: +sin_alpha*(np.sin(x / (2*np.pi))) - sin_gamma * x, lambda x, t: sin_sigma * (1 + np.abs(x))),\n",
    "    \"sit\": (lambda x, t: -sit_alpha * (np.sin(x)) + sit_beta * np.sin(t) - sit_gamma * x, lambda x, t: sit_sigma * np.ones_like(x))\n",
    "}\n",
    "\n",
    "true_a_funcs = {\n",
    "    problem: a_func for (problem, (a_func, b_func)) in true_funcs.items()\n",
    "}\n",
    "true_b_funcs = {\n",
    "    problem: b_func for (problem, (a_func, b_func)) in true_funcs.items()\n",
    "}"
   ]
  },
  {
   "cell_type": "code",
   "execution_count": 129,
   "metadata": {},
   "outputs": [
    {
     "data": {
      "text/plain": [
       "{'ou': 12.911348915685698,\n",
       " 'cir': 18.662937416932802,\n",
       " 'sin': 63.04767623291961,\n",
       " 'sit': 27.361162601919897,\n",
       " 'slv': 116.0866032509055,\n",
       " 'gfp': 9.301496663593046}"
      ]
     },
     "execution_count": 129,
     "metadata": {},
     "output_type": "execute_result"
    }
   ],
   "source": [
    "train_sample_maxvals = {\n",
    "    problem: np.amax(np.abs(np.load(f\"./problems/{problem}_test/{problem}_train_samples.npy\")).flatten()) for problem in all_problems\n",
    "}\n",
    "train_sample_maxvals"
   ]
  },
  {
   "cell_type": "code",
   "execution_count": 29,
   "metadata": {},
   "outputs": [],
   "source": [
    "def evaluate_model(model, grid, problem):\n",
    "    scaled_grid = grid.copy()\n",
    "    scaled_grid[:, 0] /= train_sample_maxvals[problem]\n",
    "    \n",
    "    pred = model.predict(scaled_grid)\n",
    "    a_pred = pred[:, 0] * train_sample_maxvals[problem]\n",
    "    b_pred = pred[:, 1] * train_sample_maxvals[problem]\n",
    "    \n",
    "    return a_pred, b_pred"
   ]
  },
  {
   "cell_type": "code",
   "execution_count": 13,
   "metadata": {},
   "outputs": [],
   "source": [
    "test_samples = {\n",
    "    problem: np.load(f\"./problems/{problem}_test/{problem}_test_samples.npy\") for problem in all_problems\n",
    "}\n",
    "tspans = {\n",
    "    problem: np.load(f\"./problems/{problem}_test/{problem}_tspan.npy\") for problem in all_problems\n",
    "}"
   ]
  },
  {
   "cell_type": "code",
   "execution_count": 14,
   "metadata": {},
   "outputs": [],
   "source": [
    "methods = [\n",
    "    \"euler\",\n",
    "    \"lt\",\n",
    "    \"moment\",\n",
    "    \"wasserstein\",\n",
    "    \"corr\",\n",
    "    \"euler_moment\",\n",
    "    \"euler_wasserstein\",\n",
    "    \"euler_corr\",\n",
    "    \"lt_moment\",\n",
    "    \"lt_wasserstein\",\n",
    "    \"lt_corr\",\n",
    "    \"euler_moment_corr\",\n",
    "    \"euler_wasserstein_corr\",\n",
    "    \"lt_moment_corr\",\n",
    "    \"lt_wasserstein_corr\"\n",
    "]"
   ]
  },
  {
   "cell_type": "code",
   "execution_count": 112,
   "metadata": {},
   "outputs": [],
   "source": [
    "N_SAMPLES = 1000\n",
    "\n",
    "def sample_from_data(test_samples, tspan, rng, N):\n",
    "    # Sample N random time points and pair them with N random test samples\n",
    "    \n",
    "    # Sample N random time points\n",
    "    tpoint_idc = rng.choice(np.arange(tspan.shape[0]), size=N, replace=True)\n",
    "    \n",
    "    # Sample N random test samples\n",
    "    sample_idc = rng.choice(np.arange(test_samples.shape[0]), size=N, replace=True)\n",
    "    \n",
    "    # Pair them together\n",
    "    joint_grid = np.stack([(test_samples[sample_idx, tpoint_idx], tspan[tpoint_idx]) for sample_idx, tpoint_idx in zip(sample_idc, tpoint_idc)], axis=0)\n",
    "    \n",
    "    return joint_grid \n",
    "\n",
    "rng = np.random.default_rng(42)\n",
    "\n",
    "data_grids = {}\n",
    "for problem in all_problems:\n",
    "    \n",
    "    data_grid = sample_from_data(test_samples[problem], tspans[problem], rng, N_SAMPLES)\n",
    "    data_grids[problem] = data_grid"
   ]
  },
  {
   "cell_type": "markdown",
   "metadata": {},
   "source": [
    "### For assessing the L2 discrepancy between true and learned coefficients, we evaluate all models on a grid before comparing to the ground truth"
   ]
  },
  {
   "cell_type": "code",
   "execution_count": 113,
   "metadata": {},
   "outputs": [
    {
     "name": "stdout",
     "output_type": "stream",
     "text": [
      "Problem: ou, Method: euler\n",
      "32/32 [==============================] - 0s 678us/step\n",
      "Problem: ou, Method: lt\n",
      "32/32 [==============================] - 0s 773us/step\n",
      "Problem: ou, Method: moment\n",
      "32/32 [==============================] - 0s 774us/step\n",
      "Problem: ou, Method: wasserstein\n",
      "32/32 [==============================] - 0s 903us/step\n",
      "Problem: ou, Method: corr\n",
      "32/32 [==============================] - 0s 742us/step\n",
      "Problem: ou, Method: euler_moment\n",
      "32/32 [==============================] - 0s 742us/step\n",
      "Problem: ou, Method: euler_wasserstein\n",
      "32/32 [==============================] - 0s 677us/step\n",
      "Problem: ou, Method: euler_corr\n",
      "32/32 [==============================] - 0s 677us/step\n",
      "Problem: ou, Method: lt_moment\n",
      "32/32 [==============================] - 0s 677us/step\n",
      "Problem: ou, Method: lt_wasserstein\n",
      "32/32 [==============================] - 0s 677us/step\n",
      "Problem: ou, Method: lt_corr\n",
      "32/32 [==============================] - 0s 742us/step\n",
      "Problem: ou, Method: euler_moment_corr\n",
      "32/32 [==============================] - 0s 677us/step\n",
      "Problem: ou, Method: euler_wasserstein_corr\n",
      "32/32 [==============================] - 0s 709us/step\n",
      "Problem: ou, Method: lt_moment_corr\n",
      "32/32 [==============================] - 0s 709us/step\n",
      "Problem: ou, Method: lt_wasserstein_corr\n",
      "32/32 [==============================] - 0s 710us/step\n",
      "Problem: cir, Method: euler\n",
      "32/32 [==============================] - 0s 742us/step\n",
      "Problem: cir, Method: lt\n",
      "32/32 [==============================] - 0s 742us/step\n",
      "Problem: cir, Method: moment\n",
      "32/32 [==============================] - 0s 710us/step\n",
      "Problem: cir, Method: wasserstein\n",
      "32/32 [==============================] - 0s 710us/step\n",
      "Problem: cir, Method: corr\n",
      "32/32 [==============================] - 0s 682us/step\n",
      "Problem: cir, Method: euler_moment\n",
      "32/32 [==============================] - 0s 710us/step\n",
      "Problem: cir, Method: euler_wasserstein\n",
      "32/32 [==============================] - 0s 741us/step\n",
      "Problem: cir, Method: euler_corr\n",
      "32/32 [==============================] - 0s 709us/step\n",
      "Problem: cir, Method: lt_moment\n",
      "32/32 [==============================] - 0s 710us/step\n",
      "Problem: cir, Method: lt_wasserstein\n",
      "32/32 [==============================] - 0s 710us/step\n",
      "Problem: cir, Method: lt_corr\n",
      "32/32 [==============================] - 0s 742us/step\n",
      "Problem: cir, Method: euler_moment_corr\n",
      "32/32 [==============================] - 0s 753us/step\n",
      "Problem: cir, Method: euler_wasserstein_corr\n",
      "32/32 [==============================] - 0s 645us/step\n",
      "Problem: cir, Method: lt_moment_corr\n",
      "32/32 [==============================] - 0s 710us/step\n",
      "Problem: cir, Method: lt_wasserstein_corr\n",
      "32/32 [==============================] - 0s 710us/step\n",
      "Problem: sin, Method: euler\n",
      "32/32 [==============================] - 0s 710us/step\n",
      "Problem: sin, Method: lt\n",
      "32/32 [==============================] - 0s 742us/step\n",
      "Problem: sin, Method: moment\n",
      "32/32 [==============================] - 0s 677us/step\n",
      "Problem: sin, Method: wasserstein\n",
      "32/32 [==============================] - 0s 645us/step\n",
      "Problem: sin, Method: corr\n",
      "32/32 [==============================] - 0s 767us/step\n",
      "Problem: sin, Method: euler_moment\n",
      "32/32 [==============================] - 0s 677us/step\n",
      "Problem: sin, Method: euler_wasserstein\n",
      "32/32 [==============================] - 0s 677us/step\n",
      "Problem: sin, Method: euler_corr\n",
      "32/32 [==============================] - 0s 709us/step\n",
      "Problem: sin, Method: lt_moment\n",
      "32/32 [==============================] - 0s 710us/step\n",
      "Problem: sin, Method: lt_wasserstein\n",
      "32/32 [==============================] - 0s 708us/step\n",
      "Problem: sin, Method: lt_corr\n",
      "32/32 [==============================] - 0s 742us/step\n",
      "Problem: sin, Method: euler_moment_corr\n",
      "32/32 [==============================] - 0s 710us/step\n",
      "Problem: sin, Method: euler_wasserstein_corr\n",
      "32/32 [==============================] - 0s 742us/step\n",
      "Problem: sin, Method: lt_moment_corr\n",
      "32/32 [==============================] - 0s 645us/step\n",
      "Problem: sin, Method: lt_wasserstein_corr\n",
      "32/32 [==============================] - 0s 742us/step\n",
      "Problem: sit, Method: euler\n",
      "32/32 [==============================] - 0s 645us/step\n",
      "Problem: sit, Method: lt\n",
      "32/32 [==============================] - 0s 677us/step\n",
      "Problem: sit, Method: moment\n",
      "32/32 [==============================] - 0s 710us/step\n",
      "Problem: sit, Method: wasserstein\n",
      "32/32 [==============================] - 0s 710us/step\n",
      "Problem: sit, Method: corr\n",
      "32/32 [==============================] - 0s 741us/step\n",
      "Problem: sit, Method: euler_moment\n",
      "32/32 [==============================] - 0s 742us/step\n",
      "Problem: sit, Method: euler_wasserstein\n",
      "32/32 [==============================] - 0s 710us/step\n",
      "Problem: sit, Method: euler_corr\n",
      "32/32 [==============================] - 0s 613us/step\n",
      "Problem: sit, Method: lt_moment\n",
      "32/32 [==============================] - 0s 677us/step\n",
      "Problem: sit, Method: lt_wasserstein\n",
      "32/32 [==============================] - 0s 677us/step\n",
      "Problem: sit, Method: lt_corr\n",
      "32/32 [==============================] - 0s 774us/step\n",
      "Problem: sit, Method: euler_moment_corr\n",
      "32/32 [==============================] - 0s 710us/step\n",
      "Problem: sit, Method: euler_wasserstein_corr\n",
      "32/32 [==============================] - 0s 706us/step\n",
      "Problem: sit, Method: lt_moment_corr\n",
      "32/32 [==============================] - 0s 709us/step\n",
      "Problem: sit, Method: lt_wasserstein_corr\n",
      "32/32 [==============================] - 0s 742us/step\n"
     ]
    }
   ],
   "source": [
    "data_grid_predictions = {}\n",
    "\n",
    "for problem in synth1d_problems:\n",
    "    for method in methods:\n",
    "        print(f\"Problem: {problem}, Method: {method}\")\n",
    "        model = tf.keras.models.load_model(f\"./results/zipped_models/{problem}_{method}_model_16_64_64_16_100ep\", compile=False)\n",
    "        data_grid = data_grids[problem]\n",
    "        a_pred, b_pred = evaluate_model(model, data_grid, problem)\n",
    "        data_grid_predictions[(problem, method)] = (a_pred, b_pred)"
   ]
  },
  {
   "cell_type": "code",
   "execution_count": 114,
   "metadata": {},
   "outputs": [],
   "source": [
    "with open(\"./results/data_grid_predictions_proper.pkl\", \"wb\") as f:\n",
    "    pickle.dump(data_grid_predictions, f)"
   ]
  },
  {
   "cell_type": "code",
   "execution_count": 137,
   "metadata": {},
   "outputs": [],
   "source": [
    "drift_results = {}\n",
    "diffusion_results = {}\n",
    "\n",
    "for problem in synth1d_problems:  \n",
    "    for method in methods:\n",
    "        data_grid = data_grids[problem]\n",
    "        \n",
    "        true_a_values = true_a_funcs[problem](data_grid[:, 0], data_grid[:, 1])\n",
    "        true_b_values = true_b_funcs[problem](data_grid[:, 0], data_grid[:, 1])\n",
    "        \n",
    "        pred_a_values, pred_b_values = data_grid_predictions[(problem, method)]\n",
    "        \n",
    "        drift_results[(problem, method)] = {\n",
    "            \"a_l2\": np.linalg.norm(true_a_values - pred_a_values, 2) / len(true_a_values),\n",
    "        }\n",
    "        \n",
    "        diffusion_results[(problem, method)] = {\n",
    "            \"b_l2\": np.linalg.norm(true_b_values - pred_b_values, 2) / len(true_b_values),\n",
    "        }      "
   ]
  },
  {
   "cell_type": "code",
   "execution_count": 138,
   "metadata": {},
   "outputs": [],
   "source": [
    "ru.write_latex_table_content(synth1d_problems, drift_results, \"a_l2_vals_proper.txt\", cell=\"value\")\n",
    "ru.write_latex_table_content(synth1d_problems, [\"lt_wasserstein_corr\", \"moment\"], drift_results, \"a_l2_vals_short.txt\", cell=\"value\")"
   ]
  },
  {
   "cell_type": "code",
   "execution_count": 140,
   "metadata": {},
   "outputs": [],
   "source": [
    "ru.write_latex_table_content(synth1d_problems, diffusion_results, \"b_l2_vals_proper.txt\", cell=\"value\")\n",
    "ru.write_latex_table_content(synth1d_problems, [\"lt_wasserstein_corr\", \"moment\"], diffusion_results, \"b_l2_vals_short.txt\", cell=\"value\")"
   ]
  },
  {
   "cell_type": "markdown",
   "metadata": {},
   "source": [
    "### For assessing the capacity to generate samples, we simulate paths from the true and estimated dynamics using the same Brownian Motion sample paths before comparing"
   ]
  },
  {
   "cell_type": "code",
   "execution_count": 199,
   "metadata": {},
   "outputs": [],
   "source": [
    "def one_step_euler_alternative(ab_fun, tspan, bms, y0, assert_positive=False):\n",
    "    assert y0.shape[0] == bms.shape[0]\n",
    "\n",
    "    res = np.zeros(shape=bms.shape)\n",
    "    res[:, 0] = y0\n",
    "\n",
    "    for i in range(1, bms.shape[1]):\n",
    "        ab_vals = ab_fun(res[:, i-1], tspan[i-1])\n",
    "        a_vals = ab_vals[:, 0]\n",
    "        b_vals = ab_vals[:, 1]\n",
    "        \n",
    "        delta_t = tspan[i] - tspan[i-1]\n",
    "        diff_add = delta_t * a_vals\n",
    "        if assert_positive:\n",
    "            diff_add[res[:, i-1] < 0.0] = 0.0\n",
    "        res[:, i] = res[:, i-1] + diff_add + b_vals * (bms[:, i] - bms[:, i-1])\n",
    "\n",
    "    return res"
   ]
  },
  {
   "cell_type": "code",
   "execution_count": 202,
   "metadata": {},
   "outputs": [],
   "source": [
    "def eval_l2(problem, test_samples, tspan, test_bms, model, rng=None):\n",
    "    if rng is None:\n",
    "        rng = np.random.default_rng(42)\n",
    "\n",
    "    initial_condition = test_samples[:, 0]\n",
    "    \n",
    "    \n",
    "    true_samples = one_step_euler(\n",
    "        a_fun = true_a_funcs[problem],\n",
    "        b_fun = true_b_funcs[problem],\n",
    "        bms=test_bms,\n",
    "        tspan=tspan,\n",
    "        y0=initial_condition\n",
    "    )\n",
    "    \n",
    "    batch_model_ab = lambda x_vec, t: model.predict(np.stack([x_vec, t * np.ones(x_vec.shape)], axis=1),\n",
    "                                                               verbose=False)\n",
    "\n",
    "    initial_condition = test_samples[:, 0]\n",
    "    \n",
    "    scaled_initial_condition = initial_condition / train_sample_maxvals[problem]\n",
    "    \n",
    "    synth_samples = one_step_euler_alternative(batch_model_ab, tspan, test_bms, scaled_initial_condition)\n",
    "    synth_samples = synth_samples * train_sample_maxvals[problem]\n",
    "    \n",
    "    return np.sum((true_samples - synth_samples) ** 2)\n",
    "        "
   ]
  },
  {
   "cell_type": "code",
   "execution_count": 208,
   "metadata": {},
   "outputs": [],
   "source": [
    "simulation_eval_l2_results = {}"
   ]
  },
  {
   "cell_type": "code",
   "execution_count": 209,
   "metadata": {},
   "outputs": [
    {
     "name": "stdout",
     "output_type": "stream",
     "text": [
      "Problem: ou, Method: euler done\n",
      "Problem: ou, Method: lt done\n",
      "Problem: ou, Method: moment done\n",
      "Problem: ou, Method: wasserstein done\n",
      "Problem: ou, Method: corr done\n",
      "Problem: ou, Method: euler_moment done\n",
      "Problem: ou, Method: euler_wasserstein done\n",
      "Problem: ou, Method: euler_corr done\n",
      "Problem: ou, Method: lt_moment done\n",
      "Problem: ou, Method: lt_wasserstein done\n",
      "Problem: ou, Method: lt_corr done\n",
      "Problem: ou, Method: euler_moment_corr done\n",
      "Problem: ou, Method: euler_wasserstein_corr done\n",
      "Problem: ou, Method: lt_moment_corr done\n",
      "Problem: ou, Method: lt_wasserstein_corr done\n",
      "Problem: cir, Method: euler done\n",
      "Problem: cir, Method: lt done\n",
      "Problem: cir, Method: moment done\n",
      "Problem: cir, Method: wasserstein done\n",
      "Problem: cir, Method: corr done\n",
      "Problem: cir, Method: euler_moment done\n",
      "Problem: cir, Method: euler_wasserstein done\n",
      "Problem: cir, Method: euler_corr done\n",
      "Problem: cir, Method: lt_moment done\n",
      "Problem: cir, Method: lt_wasserstein done\n",
      "Problem: cir, Method: lt_corr done\n",
      "Problem: cir, Method: euler_moment_corr done\n",
      "Problem: cir, Method: euler_wasserstein_corr done\n",
      "Problem: cir, Method: lt_moment_corr done\n",
      "Problem: cir, Method: lt_wasserstein_corr done\n",
      "Problem: sin, Method: euler done\n",
      "Problem: sin, Method: lt done\n",
      "Problem: sin, Method: moment done\n",
      "Problem: sin, Method: wasserstein done\n",
      "Problem: sin, Method: corr done\n",
      "Problem: sin, Method: euler_moment done\n",
      "Problem: sin, Method: euler_wasserstein done\n",
      "Problem: sin, Method: euler_corr done\n",
      "Problem: sin, Method: lt_moment done\n",
      "Problem: sin, Method: lt_wasserstein done\n",
      "Problem: sin, Method: lt_corr done\n",
      "Problem: sin, Method: euler_moment_corr done\n",
      "Problem: sin, Method: euler_wasserstein_corr done\n",
      "Problem: sin, Method: lt_moment_corr done\n",
      "Problem: sin, Method: lt_wasserstein_corr done\n",
      "Problem: sit, Method: euler done\n",
      "Problem: sit, Method: lt done\n",
      "Problem: sit, Method: moment done\n",
      "Problem: sit, Method: wasserstein done\n",
      "Problem: sit, Method: corr done\n",
      "Problem: sit, Method: euler_moment done\n",
      "Problem: sit, Method: euler_wasserstein done\n",
      "Problem: sit, Method: euler_corr done\n",
      "Problem: sit, Method: lt_moment done\n",
      "Problem: sit, Method: lt_wasserstein done\n",
      "Problem: sit, Method: lt_corr done\n",
      "Problem: sit, Method: euler_moment_corr done\n",
      "Problem: sit, Method: euler_wasserstein_corr done\n",
      "Problem: sit, Method: lt_moment_corr done\n",
      "Problem: sit, Method: lt_wasserstein_corr done\n"
     ]
    }
   ],
   "source": [
    "\n",
    "for problem in synth1d_problems:\n",
    "    for method in methods:\n",
    "\n",
    "        test_samples = np.load(f\"./problems/{problem}_test/{problem}_test_samples.npy\")\n",
    "        tspan = np.load(f\"./problems/{problem}_test/{problem}_tspan.npy\")\n",
    "        gen_samples = np.load(f\"./results/{problem}_test/{method}/generated_samples.npy\")\n",
    "        \n",
    "        model = tf.keras.models.load_model(f\"./results/zipped_models/{problem}_{method}_model_16_64_64_16_100ep\", compile=False)\n",
    "        test_bms = np.load(f\"./problems/{problem}_test/{problem}_test_bms.npy\")\n",
    "        \n",
    "        simulation_eval_l2_results[(problem, method)] = {\n",
    "            \"l2\": eval_l2(problem, test_samples, tspan, test_bms, model) / (test_samples.shape[0] * test_samples.shape[1])\n",
    "        }     \n",
    "        print(f\"Problem: {problem}, Method: {method} done\")"
   ]
  },
  {
   "cell_type": "code",
   "execution_count": 241,
   "metadata": {},
   "outputs": [],
   "source": [
    "ru.write_latex_table_content(synth1d_problems, methods, simulation_eval_l2_results, \"simulation_errors_l2.txt\", cell=\"value\")\n",
    "ru.write_latex_table_content(synth1d_problems, [\"lt_wasserstein_corr\", \"moment\"], simulation_eval_l2_results, \"simulation_errors_l2_short.txt\", cell=\"value\")"
   ]
  },
  {
   "cell_type": "markdown",
   "metadata": {},
   "source": [
    "## Second - comparison without reference to the ground truth, by comparing testing samples vs. generated samples using the SigMMD metric"
   ]
  },
  {
   "cell_type": "code",
   "execution_count": 226,
   "metadata": {},
   "outputs": [],
   "source": [
    "signature_mmds = {}\n",
    "\n",
    "problems = [\"ou\", \"cir\", \"sin\", \"sit\", \"gfp\"]\n",
    "\n",
    "for problem in problems:\n",
    "    test_samples = np.load(f\"./problems/{problem}_test/{problem}_test_samples.npy\")\n",
    "    tspan = np.load(f\"./problems/{problem}_test/{problem}_tspan.npy\")\n",
    "    \n",
    "    for method in methods:        \n",
    "        gen_samples = np.load(f\"./results/{problem}_test/{method}/generated_samples.npy\")\n",
    "        \n",
    "        permuted_test_samples = np.expand_dims(np.transpose(test_samples), axis=2)\n",
    "        permuted_gen_samples = np.expand_dims(np.transpose(gen_samples), axis=2)\n",
    "        \n",
    "        signature_mmds[(problem, method)] = sigmmd.compute_conventional_SigMMD(permuted_test_samples, permuted_gen_samples)\n",
    "    \n",
    "    uppercase_problem = problem.upper()\n",
    "    sdegan_samples = np.load(f\"./GANSDE_samples_6000/GANSDE_samples_6000/{uppercase_problem}_GANSDE_samples.npy\")\n",
    "    \n",
    "    signature_mmds[(problem, \"sdegan\")] = sigmmd.compute_conventional_SigMMD(permuted_test_samples, np.expand_dims(np.transpose(sdegan_samples), axis=2))"
   ]
  },
  {
   "cell_type": "code",
   "execution_count": 239,
   "metadata": {},
   "outputs": [],
   "source": [
    "ru.write_latex_table_content(synth1d_problems + [\"gfp\"], methods + [\"sdegan\"], {key: {\"mmd\": val} for key, val in signature_mmds.items()}, \"sigmmd_errors.txt\", cell=\"value\", withsdegan=True)\n",
    "ru.write_latex_table_content(synth1d_problems + [\"gfp\"], [\"lt_wasserstein_corr\", \"moment\", \"sdegan\"], {key: {\"mmd\": val} for key, val in signature_mmds.items()}, \"sigmmd_errors_short.txt\", cell=\"value\", withsdegan=True)"
   ]
  }
 ],
 "metadata": {
  "kernelspec": {
   "display_name": "Python 3",
   "language": "python",
   "name": "python3"
  },
  "language_info": {
   "codemirror_mode": {
    "name": "ipython",
    "version": 3
   },
   "file_extension": ".py",
   "mimetype": "text/x-python",
   "name": "python",
   "nbconvert_exporter": "python",
   "pygments_lexer": "ipython3",
   "version": "3.11.4"
  }
 },
 "nbformat": 4,
 "nbformat_minor": 2
}
